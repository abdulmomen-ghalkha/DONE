{
 "cells": [
  {
   "cell_type": "code",
   "execution_count": 2,
   "id": "971012b1",
   "metadata": {},
   "outputs": [],
   "source": [
    "import pandas as pd\n",
    "import numpy as np"
   ]
  },
  {
   "cell_type": "code",
   "execution_count": 3,
   "id": "2bb6e1b0",
   "metadata": {},
   "outputs": [],
   "source": [
    "#dgd_df = pd.read_csv(\"dgd_emission.csv\")\n",
    "#dnl_df = pd.read_csv(\"dnl_emission.csv\")\n",
    "#nt_df = pd.read_csv(\"nt_emission.csv\")\n",
    "#nn_df = pd.read_csv(\"nn_emission.csv\")"
   ]
  },
  {
   "cell_type": "code",
   "execution_count": 7,
   "id": "9cce63a0",
   "metadata": {},
   "outputs": [],
   "source": [
    "kwh_J = 3600000"
   ]
  },
  {
   "cell_type": "code",
   "execution_count": 28,
   "id": "69e5c2b0",
   "metadata": {},
   "outputs": [],
   "source": [
    "fedavg_cons = 1.25e-5 * kwh_J / 32\n",
    "done_cons = 1.51e-4 * kwh_J / 32\n",
    "sophia_cons = 1.2e-5 * kwh_J / 32\n",
    "ota_sophia_cons = 1.17e-5 * kwh_J / 32"
   ]
  },
  {
   "cell_type": "code",
   "execution_count": 29,
   "id": "dcc7784b",
   "metadata": {},
   "outputs": [
    {
     "name": "stdout",
     "output_type": "stream",
     "text": [
      "1.40625 16.9875 1.35 1.31625\n"
     ]
    }
   ],
   "source": [
    "print(fedavg_cons, done_cons, sophia_cons, ota_sophia_cons)"
   ]
  },
  {
   "cell_type": "code",
   "execution_count": 30,
   "id": "7971ce7f",
   "metadata": {},
   "outputs": [],
   "source": [
    "fedavg_comp = fedavg_cons * 33 #* 100\n",
    "done_cons_comp = done_cons * 6 #* 100\n",
    "sophia_cons_comp = sophia_cons * 5 #* 100\n",
    "ota_sophia_cons_comp = ota_sophia_cons * 5 #* 100"
   ]
  },
  {
   "cell_type": "code",
   "execution_count": 34,
   "id": "b4a13af2",
   "metadata": {},
   "outputs": [],
   "source": [
    "fedavg_comp_co2 = (fedavg_comp + 120.65e-3) / (kwh_J * 7.03) * 1000\n",
    "done_comp_co2 = (done_cons_comp + 21.94e-3) / (kwh_J * 7.03) * 1000\n",
    "sophia_comp_co2 = (sophia_cons_comp + 18.28e-3)/ (kwh_J * 7.03) * 1000\n",
    "ota_sophia_comp_co2 = (ota_sophia_cons_comp + 0.35e-3) / (kwh_J * 7.03) * 1000"
   ]
  },
  {
   "cell_type": "code",
   "execution_count": 35,
   "id": "f539efa1",
   "metadata": {},
   "outputs": [
    {
     "name": "stdout",
     "output_type": "stream",
     "text": [
      "46.40625 101.92500000000001 6.75 6.58125\n"
     ]
    }
   ],
   "source": [
    "print(fedavg_comp, done_cons_comp, sophia_cons_comp, ota_sophia_cons_comp)"
   ]
  },
  {
   "cell_type": "code",
   "execution_count": 36,
   "id": "709c66f6",
   "metadata": {},
   "outputs": [
    {
     "name": "stdout",
     "output_type": "stream",
     "text": [
      "0.001838426584479216 0.004028249565354829 0.00026743638375217323 0.00026006006006006006\n"
     ]
    }
   ],
   "source": [
    "print(fedavg_comp_co2, done_comp_co2, sophia_comp_co2, ota_sophia_comp_co2)"
   ]
  },
  {
   "cell_type": "code",
   "execution_count": 37,
   "id": "9eaa11eb",
   "metadata": {},
   "outputs": [],
   "source": [
    "avg_energy_per_round = 213.3582 * 1 / (10e6)"
   ]
  },
  {
   "cell_type": "code",
   "execution_count": 34,
   "id": "0a4cc9f1",
   "metadata": {},
   "outputs": [],
   "source": [
    "eff = 1 / avg_energy_per_round"
   ]
  },
  {
   "cell_type": "code",
   "execution_count": 35,
   "id": "9745096e",
   "metadata": {},
   "outputs": [
    {
     "name": "stdout",
     "output_type": "stream",
     "text": [
      "2.133582e-05\n"
     ]
    }
   ],
   "source": [
    "print(avg_energy_per_round)"
   ]
  },
  {
   "cell_type": "code",
   "execution_count": 36,
   "id": "897c05ab",
   "metadata": {},
   "outputs": [],
   "source": [
    "R = 192985.63\n",
    "Pt = 100e-3"
   ]
  },
  {
   "cell_type": "code",
   "execution_count": 37,
   "id": "463ab9f8",
   "metadata": {},
   "outputs": [],
   "source": [
    "dgd_comm = 475 * 407 * 32 / R * Pt * 100 * 0.4\n",
    "dnl_comm = 63 * 407 * 32 / R * Pt * 100 * 0.4\n",
    "nt_comm = 113 * 407 * 32 / R * Pt * 100 * 0.4\n",
    "nn_comm = 183 * 407 * 32 / R * Pt * 100 * 0.4"
   ]
  },
  {
   "cell_type": "code",
   "execution_count": 38,
   "id": "30cdfb9a",
   "metadata": {},
   "outputs": [],
   "source": [
    "dgd_comm_co2 = 475 * 407 * 32 / R * Pt * 100 * 0.4 / (kwh_J * 7) * 1000 \n",
    "dnl_comm_co2 = 63 * 407 * 32 / R * Pt * 100 * 0.4 / (kwh_J * 7) * 1000 \n",
    "nt_comm_co2 = 113 * 407 * 32 / R * Pt * 100 * 0.4 / (kwh_J * 7) * 1000\n",
    "nn_comm_co2 = 183 * 407 * 32 / R * Pt * 100 * 0.4 / (kwh_J * 7) * 1000"
   ]
  },
  {
   "cell_type": "code",
   "execution_count": 39,
   "id": "1645d710",
   "metadata": {},
   "outputs": [
    {
     "name": "stdout",
     "output_type": "stream",
     "text": [
      "128.22509116352344 17.00669630168837 30.50407431890136 49.400403542999555\n"
     ]
    }
   ],
   "source": [
    "print(dgd_comm, dnl_comm, nt_comm, nn_comm)"
   ]
  },
  {
   "cell_type": "code",
   "execution_count": 40,
   "id": "6d6a9173",
   "metadata": {},
   "outputs": [
    {
     "name": "stdout",
     "output_type": "stream",
     "text": [
      "0.0050882972683937875 0.0006748689008606495 0.001210479139638943 0.001960333473928554\n"
     ]
    }
   ],
   "source": [
    "print(dgd_comm_co2, dnl_comm_co2, nt_comm_co2, nn_comm_co2)"
   ]
  },
  {
   "cell_type": "code",
   "execution_count": 63,
   "id": "fcdc1913",
   "metadata": {},
   "outputs": [
    {
     "data": {
      "text/plain": [
       "0.6915999999999998"
      ]
     },
     "execution_count": 63,
     "metadata": {},
     "output_type": "execute_result"
    }
   ],
   "source": [
    "(2.3-0.2) / 150 * (49.4)"
   ]
  },
  {
   "cell_type": "code",
   "execution_count": 42,
   "id": "7a5e5722",
   "metadata": {},
   "outputs": [],
   "source": [
    "dgd_total_co2 = (dgd_comm + dgd_comp) * 1 / 3600000 * 64  \n",
    "dnl_total_co2 = (dnl_comm + dnl_comp) * 1 / 3600000 * 64\n",
    "nt_total_co2 = (nt_comm + nt_comp) * 1 / 3600000 * 64 \n",
    "nn_total_co2 = (nn_comm + nn_comp) * 1 / 3600000 * 64"
   ]
  },
  {
   "cell_type": "code",
   "execution_count": 43,
   "id": "a8c97235",
   "metadata": {},
   "outputs": [
    {
     "name": "stdout",
     "output_type": "stream",
     "text": [
      "0.002280997260873268 0.00030257623292853517 0.0005427950527722991 0.0008800793745212972\n"
     ]
    }
   ],
   "source": [
    "print(dgd_total_co2, dnl_total_co2, nt_total_co2, nn_total_co2)"
   ]
  },
  {
   "cell_type": "code",
   "execution_count": 44,
   "id": "51889a25",
   "metadata": {},
   "outputs": [
    {
     "data": {
      "text/plain": [
       "0.9032714728572098"
      ]
     },
     "execution_count": 44,
     "metadata": {},
     "output_type": "execute_result"
    }
   ],
   "source": [
    "(110 * 32 * avg_energy_per_round + dgd_cons) * 12"
   ]
  },
  {
   "cell_type": "code",
   "execution_count": 142,
   "id": "3471177b",
   "metadata": {},
   "outputs": [
    {
     "data": {
      "text/plain": [
       "2.133582e-05"
      ]
     },
     "execution_count": 142,
     "metadata": {},
     "output_type": "execute_result"
    }
   ],
   "source": [
    "avg_energy_per_round"
   ]
  },
  {
   "cell_type": "code",
   "execution_count": null,
   "id": "df27e075",
   "metadata": {},
   "outputs": [],
   "source": []
  },
  {
   "cell_type": "code",
   "execution_count": null,
   "id": "a0fee113",
   "metadata": {},
   "outputs": [],
   "source": []
  }
 ],
 "metadata": {
  "kernelspec": {
   "display_name": "Python 3 (ipykernel)",
   "language": "python",
   "name": "python3"
  },
  "language_info": {
   "codemirror_mode": {
    "name": "ipython",
    "version": 3
   },
   "file_extension": ".py",
   "mimetype": "text/x-python",
   "name": "python",
   "nbconvert_exporter": "python",
   "pygments_lexer": "ipython3",
   "version": "3.12.5"
  }
 },
 "nbformat": 4,
 "nbformat_minor": 5
}
